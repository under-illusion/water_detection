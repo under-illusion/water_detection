{
 "cells": [
  {
   "cell_type": "code",
   "execution_count": 1,
   "metadata": {},
   "outputs": [],
   "source": [
    "import pandas as pd\n",
    "import numpy as np"
   ]
  },
  {
   "cell_type": "code",
   "execution_count": 163,
   "metadata": {},
   "outputs": [],
   "source": [
    "from sklearn.model_selection import train_test_split, GridSearchCV, cross_val_score\n",
    "from sklearn.ensemble import RandomForestClassifier\n",
    "from sklearn.ensemble import RandomForestRegressor\n",
    "from sklearn.svm import SVC\n",
    "from sklearn.linear_model import LogisticRegression\n",
    "from sklearn.metrics import accuracy_score, classification_report, roc_auc_score\n",
    "from imblearn.over_sampling import SMOTE, ADASYN\n",
    "from sklearn.preprocessing import StandardScaler\n",
    "from sklearn.pipeline import Pipeline\n",
    "import joblib\n"
   ]
  },
  {
   "cell_type": "markdown",
   "metadata": {},
   "source": [
    "## Data Cleaning"
   ]
  },
  {
   "cell_type": "markdown",
   "metadata": {},
   "source": [
    "### Top Data"
   ]
  },
  {
   "cell_type": "code",
   "execution_count": 3,
   "metadata": {},
   "outputs": [
    {
     "data": {
      "text/html": [
       "<div>\n",
       "<style scoped>\n",
       "    .dataframe tbody tr th:only-of-type {\n",
       "        vertical-align: middle;\n",
       "    }\n",
       "\n",
       "    .dataframe tbody tr th {\n",
       "        vertical-align: top;\n",
       "    }\n",
       "\n",
       "    .dataframe thead th {\n",
       "        text-align: right;\n",
       "    }\n",
       "</style>\n",
       "<table border=\"1\" class=\"dataframe\">\n",
       "  <thead>\n",
       "    <tr style=\"text-align: right;\">\n",
       "      <th></th>\n",
       "      <th>pond</th>\n",
       "      <th>date</th>\n",
       "      <th>sampling_time</th>\n",
       "      <th>total_coliform</th>\n",
       "      <th>temp_celsius(air)</th>\n",
       "      <th>ORP_mV</th>\n",
       "      <th>turbidity_FAU</th>\n",
       "      <th>e_coli_MPN_100_mL</th>\n",
       "      <th>enterococci</th>\n",
       "      <th>temp_celsius(water)</th>\n",
       "      <th>conductivity_mu_S</th>\n",
       "      <th>pH</th>\n",
       "    </tr>\n",
       "  </thead>\n",
       "  <tbody>\n",
       "    <tr>\n",
       "      <th>0</th>\n",
       "      <td>1</td>\n",
       "      <td>2/5/2014</td>\n",
       "      <td>9:40 AM</td>\n",
       "      <td>1.0</td>\n",
       "      <td>23.9</td>\n",
       "      <td>192.0</td>\n",
       "      <td>11.0</td>\n",
       "      <td>1.0</td>\n",
       "      <td>37.2</td>\n",
       "      <td>20.7</td>\n",
       "      <td>141.0</td>\n",
       "      <td>7.04</td>\n",
       "    </tr>\n",
       "    <tr>\n",
       "      <th>1</th>\n",
       "      <td>1</td>\n",
       "      <td>2/12/2014</td>\n",
       "      <td>9:15 AM</td>\n",
       "      <td>26.6</td>\n",
       "      <td>17.4</td>\n",
       "      <td>179.0</td>\n",
       "      <td>10.0</td>\n",
       "      <td>1.0</td>\n",
       "      <td>1046.2</td>\n",
       "      <td>17.9</td>\n",
       "      <td>154.0</td>\n",
       "      <td>7.18</td>\n",
       "    </tr>\n",
       "    <tr>\n",
       "      <th>2</th>\n",
       "      <td>1</td>\n",
       "      <td>2/13/2014</td>\n",
       "      <td>10:00 AM</td>\n",
       "      <td>111.9</td>\n",
       "      <td>14.9</td>\n",
       "      <td>96.0</td>\n",
       "      <td>7.0</td>\n",
       "      <td>2.0</td>\n",
       "      <td>1299.7</td>\n",
       "      <td>17.5</td>\n",
       "      <td>124.0</td>\n",
       "      <td>6.93</td>\n",
       "    </tr>\n",
       "    <tr>\n",
       "      <th>3</th>\n",
       "      <td>1</td>\n",
       "      <td>2/19/2014</td>\n",
       "      <td>9:00 AM</td>\n",
       "      <td>4640.0</td>\n",
       "      <td>19.3</td>\n",
       "      <td>123.0</td>\n",
       "      <td>12.0</td>\n",
       "      <td>2.0</td>\n",
       "      <td>50.5</td>\n",
       "      <td>18.1</td>\n",
       "      <td>138.0</td>\n",
       "      <td>7.38</td>\n",
       "    </tr>\n",
       "    <tr>\n",
       "      <th>4</th>\n",
       "      <td>1</td>\n",
       "      <td>2/26/2014</td>\n",
       "      <td>9:15 AM</td>\n",
       "      <td>2.0</td>\n",
       "      <td>16.8</td>\n",
       "      <td>195.0</td>\n",
       "      <td>11.0</td>\n",
       "      <td>1.0</td>\n",
       "      <td>478.6</td>\n",
       "      <td>21.1</td>\n",
       "      <td>161.0</td>\n",
       "      <td>8.09</td>\n",
       "    </tr>\n",
       "  </tbody>\n",
       "</table>\n",
       "</div>"
      ],
      "text/plain": [
       "  pond       date sampling_time  total_coliform  temp_celsius(air)  ORP_mV  \\\n",
       "0    1   2/5/2014       9:40 AM             1.0               23.9   192.0   \n",
       "1    1  2/12/2014       9:15 AM            26.6               17.4   179.0   \n",
       "2    1  2/13/2014      10:00 AM           111.9               14.9    96.0   \n",
       "3    1  2/19/2014       9:00 AM          4640.0               19.3   123.0   \n",
       "4    1  2/26/2014       9:15 AM             2.0               16.8   195.0   \n",
       "\n",
       "   turbidity_FAU  e_coli_MPN_100_mL  enterococci  temp_celsius(water)  \\\n",
       "0           11.0                1.0         37.2                 20.7   \n",
       "1           10.0                1.0       1046.2                 17.9   \n",
       "2            7.0                2.0       1299.7                 17.5   \n",
       "3           12.0                2.0         50.5                 18.1   \n",
       "4           11.0                1.0        478.6                 21.1   \n",
       "\n",
       "   conductivity_mu_S    pH  \n",
       "0              141.0  7.04  \n",
       "1              154.0  7.18  \n",
       "2              124.0  6.93  \n",
       "3              138.0  7.38  \n",
       "4              161.0  8.09  "
      ]
     },
     "execution_count": 3,
     "metadata": {},
     "output_type": "execute_result"
    }
   ],
   "source": [
    "top_df = pd.read_csv('raw_data_topen_full.csv')\n",
    "top_df.head()"
   ]
  },
  {
   "cell_type": "code",
   "execution_count": 4,
   "metadata": {},
   "outputs": [
    {
     "data": {
      "text/html": [
       "<div>\n",
       "<style scoped>\n",
       "    .dataframe tbody tr th:only-of-type {\n",
       "        vertical-align: middle;\n",
       "    }\n",
       "\n",
       "    .dataframe tbody tr th {\n",
       "        vertical-align: top;\n",
       "    }\n",
       "\n",
       "    .dataframe thead th {\n",
       "        text-align: right;\n",
       "    }\n",
       "</style>\n",
       "<table border=\"1\" class=\"dataframe\">\n",
       "  <thead>\n",
       "    <tr style=\"text-align: right;\">\n",
       "      <th></th>\n",
       "      <th>pond</th>\n",
       "      <th>date</th>\n",
       "      <th>sampling_time</th>\n",
       "      <th>total_coliform</th>\n",
       "      <th>air_temp</th>\n",
       "      <th>ORP_mv</th>\n",
       "      <th>turbidity</th>\n",
       "      <th>ecoli_mpn</th>\n",
       "      <th>enterococci</th>\n",
       "      <th>water_temp</th>\n",
       "      <th>conductivity</th>\n",
       "      <th>ph</th>\n",
       "    </tr>\n",
       "  </thead>\n",
       "  <tbody>\n",
       "    <tr>\n",
       "      <th>0</th>\n",
       "      <td>1</td>\n",
       "      <td>2/5/2014</td>\n",
       "      <td>9:40 AM</td>\n",
       "      <td>1.0</td>\n",
       "      <td>23.9</td>\n",
       "      <td>192.0</td>\n",
       "      <td>11.0</td>\n",
       "      <td>1.0</td>\n",
       "      <td>37.2</td>\n",
       "      <td>20.7</td>\n",
       "      <td>141.0</td>\n",
       "      <td>7.04</td>\n",
       "    </tr>\n",
       "    <tr>\n",
       "      <th>1</th>\n",
       "      <td>1</td>\n",
       "      <td>2/12/2014</td>\n",
       "      <td>9:15 AM</td>\n",
       "      <td>26.6</td>\n",
       "      <td>17.4</td>\n",
       "      <td>179.0</td>\n",
       "      <td>10.0</td>\n",
       "      <td>1.0</td>\n",
       "      <td>1046.2</td>\n",
       "      <td>17.9</td>\n",
       "      <td>154.0</td>\n",
       "      <td>7.18</td>\n",
       "    </tr>\n",
       "    <tr>\n",
       "      <th>2</th>\n",
       "      <td>1</td>\n",
       "      <td>2/13/2014</td>\n",
       "      <td>10:00 AM</td>\n",
       "      <td>111.9</td>\n",
       "      <td>14.9</td>\n",
       "      <td>96.0</td>\n",
       "      <td>7.0</td>\n",
       "      <td>2.0</td>\n",
       "      <td>1299.7</td>\n",
       "      <td>17.5</td>\n",
       "      <td>124.0</td>\n",
       "      <td>6.93</td>\n",
       "    </tr>\n",
       "    <tr>\n",
       "      <th>3</th>\n",
       "      <td>1</td>\n",
       "      <td>2/19/2014</td>\n",
       "      <td>9:00 AM</td>\n",
       "      <td>4640.0</td>\n",
       "      <td>19.3</td>\n",
       "      <td>123.0</td>\n",
       "      <td>12.0</td>\n",
       "      <td>2.0</td>\n",
       "      <td>50.5</td>\n",
       "      <td>18.1</td>\n",
       "      <td>138.0</td>\n",
       "      <td>7.38</td>\n",
       "    </tr>\n",
       "    <tr>\n",
       "      <th>4</th>\n",
       "      <td>1</td>\n",
       "      <td>2/26/2014</td>\n",
       "      <td>9:15 AM</td>\n",
       "      <td>2.0</td>\n",
       "      <td>16.8</td>\n",
       "      <td>195.0</td>\n",
       "      <td>11.0</td>\n",
       "      <td>1.0</td>\n",
       "      <td>478.6</td>\n",
       "      <td>21.1</td>\n",
       "      <td>161.0</td>\n",
       "      <td>8.09</td>\n",
       "    </tr>\n",
       "  </tbody>\n",
       "</table>\n",
       "</div>"
      ],
      "text/plain": [
       "  pond       date sampling_time  total_coliform  air_temp  ORP_mv  turbidity  \\\n",
       "0    1   2/5/2014       9:40 AM             1.0      23.9   192.0       11.0   \n",
       "1    1  2/12/2014       9:15 AM            26.6      17.4   179.0       10.0   \n",
       "2    1  2/13/2014      10:00 AM           111.9      14.9    96.0        7.0   \n",
       "3    1  2/19/2014       9:00 AM          4640.0      19.3   123.0       12.0   \n",
       "4    1  2/26/2014       9:15 AM             2.0      16.8   195.0       11.0   \n",
       "\n",
       "   ecoli_mpn  enterococci  water_temp  conductivity    ph  \n",
       "0        1.0         37.2        20.7         141.0  7.04  \n",
       "1        1.0       1046.2        17.9         154.0  7.18  \n",
       "2        2.0       1299.7        17.5         124.0  6.93  \n",
       "3        2.0         50.5        18.1         138.0  7.38  \n",
       "4        1.0        478.6        21.1         161.0  8.09  "
      ]
     },
     "execution_count": 4,
     "metadata": {},
     "output_type": "execute_result"
    }
   ],
   "source": [
    "top_df.columns = [\"pond\", \"date\", \"sampling_time\", \"total_coliform\", \"air_temp\", \"ORP_mv\", \"turbidity\", \"ecoli_mpn\", \"enterococci\", \"water_temp\", \"conductivity\", \"ph\"]\n",
    "top_df.head()"
   ]
  },
  {
   "cell_type": "code",
   "execution_count": 5,
   "metadata": {},
   "outputs": [],
   "source": [
    "top_psysico_df = top_df[[\"ecoli_mpn\", \"ph\", \"conductivity\", \"turbidity\", \"water_temp\"]]"
   ]
  },
  {
   "cell_type": "code",
   "execution_count": 6,
   "metadata": {},
   "outputs": [
    {
     "data": {
      "text/html": [
       "<div>\n",
       "<style scoped>\n",
       "    .dataframe tbody tr th:only-of-type {\n",
       "        vertical-align: middle;\n",
       "    }\n",
       "\n",
       "    .dataframe tbody tr th {\n",
       "        vertical-align: top;\n",
       "    }\n",
       "\n",
       "    .dataframe thead th {\n",
       "        text-align: right;\n",
       "    }\n",
       "</style>\n",
       "<table border=\"1\" class=\"dataframe\">\n",
       "  <thead>\n",
       "    <tr style=\"text-align: right;\">\n",
       "      <th></th>\n",
       "      <th>ecoli_mpn</th>\n",
       "      <th>ph</th>\n",
       "      <th>conductivity</th>\n",
       "      <th>turbidity</th>\n",
       "      <th>water_temp</th>\n",
       "    </tr>\n",
       "  </thead>\n",
       "  <tbody>\n",
       "    <tr>\n",
       "      <th>0</th>\n",
       "      <td>1.0</td>\n",
       "      <td>7.04</td>\n",
       "      <td>141.0</td>\n",
       "      <td>11.0</td>\n",
       "      <td>20.7</td>\n",
       "    </tr>\n",
       "    <tr>\n",
       "      <th>1</th>\n",
       "      <td>1.0</td>\n",
       "      <td>7.18</td>\n",
       "      <td>154.0</td>\n",
       "      <td>10.0</td>\n",
       "      <td>17.9</td>\n",
       "    </tr>\n",
       "    <tr>\n",
       "      <th>2</th>\n",
       "      <td>2.0</td>\n",
       "      <td>6.93</td>\n",
       "      <td>124.0</td>\n",
       "      <td>7.0</td>\n",
       "      <td>17.5</td>\n",
       "    </tr>\n",
       "    <tr>\n",
       "      <th>3</th>\n",
       "      <td>2.0</td>\n",
       "      <td>7.38</td>\n",
       "      <td>138.0</td>\n",
       "      <td>12.0</td>\n",
       "      <td>18.1</td>\n",
       "    </tr>\n",
       "    <tr>\n",
       "      <th>4</th>\n",
       "      <td>1.0</td>\n",
       "      <td>8.09</td>\n",
       "      <td>161.0</td>\n",
       "      <td>11.0</td>\n",
       "      <td>21.1</td>\n",
       "    </tr>\n",
       "  </tbody>\n",
       "</table>\n",
       "</div>"
      ],
      "text/plain": [
       "   ecoli_mpn    ph  conductivity  turbidity  water_temp\n",
       "0        1.0  7.04         141.0       11.0        20.7\n",
       "1        1.0  7.18         154.0       10.0        17.9\n",
       "2        2.0  6.93         124.0        7.0        17.5\n",
       "3        2.0  7.38         138.0       12.0        18.1\n",
       "4        1.0  8.09         161.0       11.0        21.1"
      ]
     },
     "execution_count": 6,
     "metadata": {},
     "output_type": "execute_result"
    }
   ],
   "source": [
    "top_psysico_df.head()"
   ]
  },
  {
   "cell_type": "code",
   "execution_count": 8,
   "metadata": {},
   "outputs": [
    {
     "name": "stderr",
     "output_type": "stream",
     "text": [
      "/var/folders/sl/r4c_htl17rxb94h9jwn4bx4m0000gn/T/ipykernel_37809/1498479490.py:1: SettingWithCopyWarning: \n",
      "A value is trying to be set on a copy of a slice from a DataFrame.\n",
      "Try using .loc[row_indexer,col_indexer] = value instead\n",
      "\n",
      "See the caveats in the documentation: https://pandas.pydata.org/pandas-docs/stable/user_guide/indexing.html#returning-a-view-versus-a-copy\n",
      "  top_psysico_df.loc[:, ('conductivity_log_us_cm')] = np.log10(top_psysico_df['conductivity'])\n"
     ]
    }
   ],
   "source": [
    "top_psysico_df.loc[:, ('conductivity_log_us_cm')] = np.log10(top_psysico_df['conductivity'])"
   ]
  },
  {
   "cell_type": "code",
   "execution_count": 10,
   "metadata": {},
   "outputs": [
    {
     "name": "stderr",
     "output_type": "stream",
     "text": [
      "/var/folders/sl/r4c_htl17rxb94h9jwn4bx4m0000gn/T/ipykernel_37809/2194387804.py:1: SettingWithCopyWarning: \n",
      "A value is trying to be set on a copy of a slice from a DataFrame.\n",
      "Try using .loc[row_indexer,col_indexer] = value instead\n",
      "\n",
      "See the caveats in the documentation: https://pandas.pydata.org/pandas-docs/stable/user_guide/indexing.html#returning-a-view-versus-a-copy\n",
      "  top_psysico_df.loc[:, ('turbidity_log')] = np.log10(top_psysico_df['turbidity'])\n"
     ]
    }
   ],
   "source": [
    "top_psysico_df.loc[:, ('turbidity_log')] = np.log10(top_psysico_df['turbidity'])"
   ]
  },
  {
   "cell_type": "code",
   "execution_count": 12,
   "metadata": {},
   "outputs": [
    {
     "name": "stderr",
     "output_type": "stream",
     "text": [
      "/var/folders/sl/r4c_htl17rxb94h9jwn4bx4m0000gn/T/ipykernel_37809/3451038075.py:1: SettingWithCopyWarning: \n",
      "A value is trying to be set on a copy of a slice from a DataFrame.\n",
      "Try using .loc[row_indexer,col_indexer] = value instead\n",
      "\n",
      "See the caveats in the documentation: https://pandas.pydata.org/pandas-docs/stable/user_guide/indexing.html#returning-a-view-versus-a-copy\n",
      "  top_psysico_df.loc[:, ('ecoli_log_mpn')] = np.log10(top_psysico_df['ecoli_mpn'])\n"
     ]
    }
   ],
   "source": [
    "top_psysico_df.loc[:, ('ecoli_log_mpn')] = np.log10(top_psysico_df['ecoli_mpn'])"
   ]
  },
  {
   "cell_type": "code",
   "execution_count": 13,
   "metadata": {},
   "outputs": [
    {
     "data": {
      "text/html": [
       "<div>\n",
       "<style scoped>\n",
       "    .dataframe tbody tr th:only-of-type {\n",
       "        vertical-align: middle;\n",
       "    }\n",
       "\n",
       "    .dataframe tbody tr th {\n",
       "        vertical-align: top;\n",
       "    }\n",
       "\n",
       "    .dataframe thead th {\n",
       "        text-align: right;\n",
       "    }\n",
       "</style>\n",
       "<table border=\"1\" class=\"dataframe\">\n",
       "  <thead>\n",
       "    <tr style=\"text-align: right;\">\n",
       "      <th></th>\n",
       "      <th>ecoli_mpn</th>\n",
       "      <th>ph</th>\n",
       "      <th>conductivity</th>\n",
       "      <th>turbidity</th>\n",
       "      <th>water_temp</th>\n",
       "      <th>conductivity_log_us_cm</th>\n",
       "      <th>turbidity_log</th>\n",
       "      <th>ecoli_log_mpn</th>\n",
       "    </tr>\n",
       "  </thead>\n",
       "  <tbody>\n",
       "    <tr>\n",
       "      <th>0</th>\n",
       "      <td>1.0</td>\n",
       "      <td>7.04</td>\n",
       "      <td>141.0</td>\n",
       "      <td>11.0</td>\n",
       "      <td>20.7</td>\n",
       "      <td>2.149219</td>\n",
       "      <td>1.041393</td>\n",
       "      <td>0.00000</td>\n",
       "    </tr>\n",
       "    <tr>\n",
       "      <th>1</th>\n",
       "      <td>1.0</td>\n",
       "      <td>7.18</td>\n",
       "      <td>154.0</td>\n",
       "      <td>10.0</td>\n",
       "      <td>17.9</td>\n",
       "      <td>2.187521</td>\n",
       "      <td>1.000000</td>\n",
       "      <td>0.00000</td>\n",
       "    </tr>\n",
       "    <tr>\n",
       "      <th>2</th>\n",
       "      <td>2.0</td>\n",
       "      <td>6.93</td>\n",
       "      <td>124.0</td>\n",
       "      <td>7.0</td>\n",
       "      <td>17.5</td>\n",
       "      <td>2.093422</td>\n",
       "      <td>0.845098</td>\n",
       "      <td>0.30103</td>\n",
       "    </tr>\n",
       "    <tr>\n",
       "      <th>3</th>\n",
       "      <td>2.0</td>\n",
       "      <td>7.38</td>\n",
       "      <td>138.0</td>\n",
       "      <td>12.0</td>\n",
       "      <td>18.1</td>\n",
       "      <td>2.139879</td>\n",
       "      <td>1.079181</td>\n",
       "      <td>0.30103</td>\n",
       "    </tr>\n",
       "    <tr>\n",
       "      <th>4</th>\n",
       "      <td>1.0</td>\n",
       "      <td>8.09</td>\n",
       "      <td>161.0</td>\n",
       "      <td>11.0</td>\n",
       "      <td>21.1</td>\n",
       "      <td>2.206826</td>\n",
       "      <td>1.041393</td>\n",
       "      <td>0.00000</td>\n",
       "    </tr>\n",
       "  </tbody>\n",
       "</table>\n",
       "</div>"
      ],
      "text/plain": [
       "   ecoli_mpn    ph  conductivity  turbidity  water_temp  \\\n",
       "0        1.0  7.04         141.0       11.0        20.7   \n",
       "1        1.0  7.18         154.0       10.0        17.9   \n",
       "2        2.0  6.93         124.0        7.0        17.5   \n",
       "3        2.0  7.38         138.0       12.0        18.1   \n",
       "4        1.0  8.09         161.0       11.0        21.1   \n",
       "\n",
       "   conductivity_log_us_cm  turbidity_log  ecoli_log_mpn  \n",
       "0                2.149219       1.041393        0.00000  \n",
       "1                2.187521       1.000000        0.00000  \n",
       "2                2.093422       0.845098        0.30103  \n",
       "3                2.139879       1.079181        0.30103  \n",
       "4                2.206826       1.041393        0.00000  "
      ]
     },
     "execution_count": 13,
     "metadata": {},
     "output_type": "execute_result"
    }
   ],
   "source": [
    "top_psysico_df.head()"
   ]
  },
  {
   "cell_type": "code",
   "execution_count": 14,
   "metadata": {},
   "outputs": [
    {
     "data": {
      "text/html": [
       "<div>\n",
       "<style scoped>\n",
       "    .dataframe tbody tr th:only-of-type {\n",
       "        vertical-align: middle;\n",
       "    }\n",
       "\n",
       "    .dataframe tbody tr th {\n",
       "        vertical-align: top;\n",
       "    }\n",
       "\n",
       "    .dataframe thead th {\n",
       "        text-align: right;\n",
       "    }\n",
       "</style>\n",
       "<table border=\"1\" class=\"dataframe\">\n",
       "  <thead>\n",
       "    <tr style=\"text-align: right;\">\n",
       "      <th></th>\n",
       "      <th>ecoli_log_mpn</th>\n",
       "      <th>ph</th>\n",
       "      <th>conductivity_log_us_cm</th>\n",
       "      <th>turbidity_log</th>\n",
       "      <th>water_temp</th>\n",
       "    </tr>\n",
       "  </thead>\n",
       "  <tbody>\n",
       "    <tr>\n",
       "      <th>0</th>\n",
       "      <td>0.00000</td>\n",
       "      <td>7.04</td>\n",
       "      <td>2.149219</td>\n",
       "      <td>1.041393</td>\n",
       "      <td>20.7</td>\n",
       "    </tr>\n",
       "    <tr>\n",
       "      <th>1</th>\n",
       "      <td>0.00000</td>\n",
       "      <td>7.18</td>\n",
       "      <td>2.187521</td>\n",
       "      <td>1.000000</td>\n",
       "      <td>17.9</td>\n",
       "    </tr>\n",
       "    <tr>\n",
       "      <th>2</th>\n",
       "      <td>0.30103</td>\n",
       "      <td>6.93</td>\n",
       "      <td>2.093422</td>\n",
       "      <td>0.845098</td>\n",
       "      <td>17.5</td>\n",
       "    </tr>\n",
       "    <tr>\n",
       "      <th>3</th>\n",
       "      <td>0.30103</td>\n",
       "      <td>7.38</td>\n",
       "      <td>2.139879</td>\n",
       "      <td>1.079181</td>\n",
       "      <td>18.1</td>\n",
       "    </tr>\n",
       "    <tr>\n",
       "      <th>4</th>\n",
       "      <td>0.00000</td>\n",
       "      <td>8.09</td>\n",
       "      <td>2.206826</td>\n",
       "      <td>1.041393</td>\n",
       "      <td>21.1</td>\n",
       "    </tr>\n",
       "  </tbody>\n",
       "</table>\n",
       "</div>"
      ],
      "text/plain": [
       "   ecoli_log_mpn    ph  conductivity_log_us_cm  turbidity_log  water_temp\n",
       "0        0.00000  7.04                2.149219       1.041393        20.7\n",
       "1        0.00000  7.18                2.187521       1.000000        17.9\n",
       "2        0.30103  6.93                2.093422       0.845098        17.5\n",
       "3        0.30103  7.38                2.139879       1.079181        18.1\n",
       "4        0.00000  8.09                2.206826       1.041393        21.1"
      ]
     },
     "execution_count": 14,
     "metadata": {},
     "output_type": "execute_result"
    }
   ],
   "source": [
    "top_final_psysico_df = top_psysico_df[[\"ecoli_log_mpn\", \"ph\", \"conductivity_log_us_cm\", \"turbidity_log\", \"water_temp\"]]\n",
    "top_final_psysico_df.head()"
   ]
  },
  {
   "cell_type": "markdown",
   "metadata": {},
   "source": [
    "### Weller Data"
   ]
  },
  {
   "cell_type": "code",
   "execution_count": 15,
   "metadata": {},
   "outputs": [
    {
     "data": {
      "text/html": [
       "<div>\n",
       "<style scoped>\n",
       "    .dataframe tbody tr th:only-of-type {\n",
       "        vertical-align: middle;\n",
       "    }\n",
       "\n",
       "    .dataframe tbody tr th {\n",
       "        vertical-align: top;\n",
       "    }\n",
       "\n",
       "    .dataframe thead th {\n",
       "        text-align: right;\n",
       "    }\n",
       "</style>\n",
       "<table border=\"1\" class=\"dataframe\">\n",
       "  <thead>\n",
       "    <tr style=\"text-align: right;\">\n",
       "      <th></th>\n",
       "      <th>ecoli</th>\n",
       "      <th>ph</th>\n",
       "      <th>cond</th>\n",
       "      <th>turb</th>\n",
       "      <th>w_t</th>\n",
       "    </tr>\n",
       "  </thead>\n",
       "  <tbody>\n",
       "    <tr>\n",
       "      <th>0</th>\n",
       "      <td>2.078819</td>\n",
       "      <td>7.83</td>\n",
       "      <td>2.815578</td>\n",
       "      <td>0.906335</td>\n",
       "      <td>19.2</td>\n",
       "    </tr>\n",
       "    <tr>\n",
       "      <th>1</th>\n",
       "      <td>3.397940</td>\n",
       "      <td>NaN</td>\n",
       "      <td>2.781755</td>\n",
       "      <td>1.075547</td>\n",
       "      <td>21.1</td>\n",
       "    </tr>\n",
       "    <tr>\n",
       "      <th>2</th>\n",
       "      <td>3.397940</td>\n",
       "      <td>7.54</td>\n",
       "      <td>2.716003</td>\n",
       "      <td>1.025306</td>\n",
       "      <td>18.1</td>\n",
       "    </tr>\n",
       "    <tr>\n",
       "      <th>3</th>\n",
       "      <td>2.588047</td>\n",
       "      <td>8.49</td>\n",
       "      <td>2.831230</td>\n",
       "      <td>0.648360</td>\n",
       "      <td>23.0</td>\n",
       "    </tr>\n",
       "    <tr>\n",
       "      <th>4</th>\n",
       "      <td>1.779596</td>\n",
       "      <td>8.52</td>\n",
       "      <td>2.745855</td>\n",
       "      <td>0.598791</td>\n",
       "      <td>23.7</td>\n",
       "    </tr>\n",
       "  </tbody>\n",
       "</table>\n",
       "</div>"
      ],
      "text/plain": [
       "      ecoli    ph      cond      turb   w_t\n",
       "0  2.078819  7.83  2.815578  0.906335  19.2\n",
       "1  3.397940   NaN  2.781755  1.075547  21.1\n",
       "2  3.397940  7.54  2.716003  1.025306  18.1\n",
       "3  2.588047  8.49  2.831230  0.648360  23.0\n",
       "4  1.779596  8.52  2.745855  0.598791  23.7"
      ]
     },
     "execution_count": 15,
     "metadata": {},
     "output_type": "execute_result"
    }
   ],
   "source": [
    "weller_df = pd.read_csv('weller_mstdata.csv')\n",
    "weller_final_psysico_df = weller_df[[\"ecoli\", \"ph\", \"cond\", \"turb\", \"w_t\"]]\n",
    "weller_final_psysico_df.head()"
   ]
  },
  {
   "cell_type": "code",
   "execution_count": 16,
   "metadata": {},
   "outputs": [],
   "source": [
    "weller_final_psysico_df.columns = [\"ecoli_log_mpn\", \"ph\", \"conductivity_log_us_cm\", \"turbidity_log\", \"water_temp\"]"
   ]
  },
  {
   "cell_type": "code",
   "execution_count": 17,
   "metadata": {},
   "outputs": [
    {
     "data": {
      "text/html": [
       "<div>\n",
       "<style scoped>\n",
       "    .dataframe tbody tr th:only-of-type {\n",
       "        vertical-align: middle;\n",
       "    }\n",
       "\n",
       "    .dataframe tbody tr th {\n",
       "        vertical-align: top;\n",
       "    }\n",
       "\n",
       "    .dataframe thead th {\n",
       "        text-align: right;\n",
       "    }\n",
       "</style>\n",
       "<table border=\"1\" class=\"dataframe\">\n",
       "  <thead>\n",
       "    <tr style=\"text-align: right;\">\n",
       "      <th></th>\n",
       "      <th>ecoli_log_mpn</th>\n",
       "      <th>ph</th>\n",
       "      <th>conductivity_log_us_cm</th>\n",
       "      <th>turbidity_log</th>\n",
       "      <th>water_temp</th>\n",
       "    </tr>\n",
       "  </thead>\n",
       "  <tbody>\n",
       "    <tr>\n",
       "      <th>0</th>\n",
       "      <td>2.078819</td>\n",
       "      <td>7.83</td>\n",
       "      <td>2.815578</td>\n",
       "      <td>0.906335</td>\n",
       "      <td>19.2</td>\n",
       "    </tr>\n",
       "    <tr>\n",
       "      <th>1</th>\n",
       "      <td>3.397940</td>\n",
       "      <td>NaN</td>\n",
       "      <td>2.781755</td>\n",
       "      <td>1.075547</td>\n",
       "      <td>21.1</td>\n",
       "    </tr>\n",
       "    <tr>\n",
       "      <th>2</th>\n",
       "      <td>3.397940</td>\n",
       "      <td>7.54</td>\n",
       "      <td>2.716003</td>\n",
       "      <td>1.025306</td>\n",
       "      <td>18.1</td>\n",
       "    </tr>\n",
       "    <tr>\n",
       "      <th>3</th>\n",
       "      <td>2.588047</td>\n",
       "      <td>8.49</td>\n",
       "      <td>2.831230</td>\n",
       "      <td>0.648360</td>\n",
       "      <td>23.0</td>\n",
       "    </tr>\n",
       "    <tr>\n",
       "      <th>4</th>\n",
       "      <td>1.779596</td>\n",
       "      <td>8.52</td>\n",
       "      <td>2.745855</td>\n",
       "      <td>0.598791</td>\n",
       "      <td>23.7</td>\n",
       "    </tr>\n",
       "  </tbody>\n",
       "</table>\n",
       "</div>"
      ],
      "text/plain": [
       "   ecoli_log_mpn    ph  conductivity_log_us_cm  turbidity_log  water_temp\n",
       "0       2.078819  7.83                2.815578       0.906335        19.2\n",
       "1       3.397940   NaN                2.781755       1.075547        21.1\n",
       "2       3.397940  7.54                2.716003       1.025306        18.1\n",
       "3       2.588047  8.49                2.831230       0.648360        23.0\n",
       "4       1.779596  8.52                2.745855       0.598791        23.7"
      ]
     },
     "execution_count": 17,
     "metadata": {},
     "output_type": "execute_result"
    }
   ],
   "source": [
    "weller_final_psysico_df.head()"
   ]
  },
  {
   "cell_type": "markdown",
   "metadata": {},
   "source": [
    "### Wiley Data"
   ]
  },
  {
   "cell_type": "code",
   "execution_count": 18,
   "metadata": {},
   "outputs": [
    {
     "data": {
      "text/html": [
       "<div>\n",
       "<style scoped>\n",
       "    .dataframe tbody tr th:only-of-type {\n",
       "        vertical-align: middle;\n",
       "    }\n",
       "\n",
       "    .dataframe tbody tr th {\n",
       "        vertical-align: top;\n",
       "    }\n",
       "\n",
       "    .dataframe thead th {\n",
       "        text-align: right;\n",
       "    }\n",
       "</style>\n",
       "<table border=\"1\" class=\"dataframe\">\n",
       "  <thead>\n",
       "    <tr style=\"text-align: right;\">\n",
       "      <th></th>\n",
       "      <th>e_coli</th>\n",
       "      <th>contamination(%)</th>\n",
       "      <th>water_temperature(◦C)</th>\n",
       "      <th>conductivity(µS)</th>\n",
       "      <th>pH</th>\n",
       "      <th>turbidity(NTU)</th>\n",
       "      <th>e_coli_MG1655_load(LogCFU/mL)</th>\n",
       "    </tr>\n",
       "  </thead>\n",
       "  <tbody>\n",
       "    <tr>\n",
       "      <th>0</th>\n",
       "      <td>0</td>\n",
       "      <td>0</td>\n",
       "      <td>24.82</td>\n",
       "      <td>70.0</td>\n",
       "      <td>8.77</td>\n",
       "      <td>7.65</td>\n",
       "      <td>0.52</td>\n",
       "    </tr>\n",
       "    <tr>\n",
       "      <th>1</th>\n",
       "      <td>0</td>\n",
       "      <td>0</td>\n",
       "      <td>23.32</td>\n",
       "      <td>8.1</td>\n",
       "      <td>7.11</td>\n",
       "      <td>9.47</td>\n",
       "      <td>0.52</td>\n",
       "    </tr>\n",
       "    <tr>\n",
       "      <th>2</th>\n",
       "      <td>0</td>\n",
       "      <td>0</td>\n",
       "      <td>23.14</td>\n",
       "      <td>96.1</td>\n",
       "      <td>8.31</td>\n",
       "      <td>8.24</td>\n",
       "      <td>0.52</td>\n",
       "    </tr>\n",
       "    <tr>\n",
       "      <th>3</th>\n",
       "      <td>0</td>\n",
       "      <td>0</td>\n",
       "      <td>25.80</td>\n",
       "      <td>26.3</td>\n",
       "      <td>7.65</td>\n",
       "      <td>11.67</td>\n",
       "      <td>0.52</td>\n",
       "    </tr>\n",
       "    <tr>\n",
       "      <th>4</th>\n",
       "      <td>0</td>\n",
       "      <td>0</td>\n",
       "      <td>23.07</td>\n",
       "      <td>7.9</td>\n",
       "      <td>7.36</td>\n",
       "      <td>15.92</td>\n",
       "      <td>0.52</td>\n",
       "    </tr>\n",
       "  </tbody>\n",
       "</table>\n",
       "</div>"
      ],
      "text/plain": [
       "   e_coli  contamination(%)  water_temperature(◦C)  conductivity(µS)    pH  \\\n",
       "0       0                 0                  24.82              70.0  8.77   \n",
       "1       0                 0                  23.32               8.1  7.11   \n",
       "2       0                 0                  23.14              96.1  8.31   \n",
       "3       0                 0                  25.80              26.3  7.65   \n",
       "4       0                 0                  23.07               7.9  7.36   \n",
       "\n",
       "   turbidity(NTU)  e_coli_MG1655_load(LogCFU/mL)  \n",
       "0            7.65                           0.52  \n",
       "1            9.47                           0.52  \n",
       "2            8.24                           0.52  \n",
       "3           11.67                           0.52  \n",
       "4           15.92                           0.52  "
      ]
     },
     "execution_count": 18,
     "metadata": {},
     "output_type": "execute_result"
    }
   ],
   "source": [
    "wiley_df = pd.read_csv('raw_data_wiley.csv')\n",
    "wiley_df.head()"
   ]
  },
  {
   "cell_type": "code",
   "execution_count": 20,
   "metadata": {},
   "outputs": [
    {
     "data": {
      "text/html": [
       "<div>\n",
       "<style scoped>\n",
       "    .dataframe tbody tr th:only-of-type {\n",
       "        vertical-align: middle;\n",
       "    }\n",
       "\n",
       "    .dataframe tbody tr th {\n",
       "        vertical-align: top;\n",
       "    }\n",
       "\n",
       "    .dataframe thead th {\n",
       "        text-align: right;\n",
       "    }\n",
       "</style>\n",
       "<table border=\"1\" class=\"dataframe\">\n",
       "  <thead>\n",
       "    <tr style=\"text-align: right;\">\n",
       "      <th></th>\n",
       "      <th>ecoli_presence</th>\n",
       "      <th>contamination_percent</th>\n",
       "      <th>water_temp</th>\n",
       "      <th>conductivity</th>\n",
       "      <th>ph</th>\n",
       "      <th>turbidity</th>\n",
       "      <th>ecoli_log_mpn</th>\n",
       "    </tr>\n",
       "  </thead>\n",
       "  <tbody>\n",
       "    <tr>\n",
       "      <th>0</th>\n",
       "      <td>0</td>\n",
       "      <td>0</td>\n",
       "      <td>24.82</td>\n",
       "      <td>70.0</td>\n",
       "      <td>8.77</td>\n",
       "      <td>7.65</td>\n",
       "      <td>0.52</td>\n",
       "    </tr>\n",
       "    <tr>\n",
       "      <th>1</th>\n",
       "      <td>0</td>\n",
       "      <td>0</td>\n",
       "      <td>23.32</td>\n",
       "      <td>8.1</td>\n",
       "      <td>7.11</td>\n",
       "      <td>9.47</td>\n",
       "      <td>0.52</td>\n",
       "    </tr>\n",
       "    <tr>\n",
       "      <th>2</th>\n",
       "      <td>0</td>\n",
       "      <td>0</td>\n",
       "      <td>23.14</td>\n",
       "      <td>96.1</td>\n",
       "      <td>8.31</td>\n",
       "      <td>8.24</td>\n",
       "      <td>0.52</td>\n",
       "    </tr>\n",
       "    <tr>\n",
       "      <th>3</th>\n",
       "      <td>0</td>\n",
       "      <td>0</td>\n",
       "      <td>25.80</td>\n",
       "      <td>26.3</td>\n",
       "      <td>7.65</td>\n",
       "      <td>11.67</td>\n",
       "      <td>0.52</td>\n",
       "    </tr>\n",
       "    <tr>\n",
       "      <th>4</th>\n",
       "      <td>0</td>\n",
       "      <td>0</td>\n",
       "      <td>23.07</td>\n",
       "      <td>7.9</td>\n",
       "      <td>7.36</td>\n",
       "      <td>15.92</td>\n",
       "      <td>0.52</td>\n",
       "    </tr>\n",
       "  </tbody>\n",
       "</table>\n",
       "</div>"
      ],
      "text/plain": [
       "   ecoli_presence  contamination_percent  water_temp  conductivity    ph  \\\n",
       "0               0                      0       24.82          70.0  8.77   \n",
       "1               0                      0       23.32           8.1  7.11   \n",
       "2               0                      0       23.14          96.1  8.31   \n",
       "3               0                      0       25.80          26.3  7.65   \n",
       "4               0                      0       23.07           7.9  7.36   \n",
       "\n",
       "   turbidity  ecoli_log_mpn  \n",
       "0       7.65           0.52  \n",
       "1       9.47           0.52  \n",
       "2       8.24           0.52  \n",
       "3      11.67           0.52  \n",
       "4      15.92           0.52  "
      ]
     },
     "execution_count": 20,
     "metadata": {},
     "output_type": "execute_result"
    }
   ],
   "source": [
    "wiley_df.columns = [\"ecoli_presence\", \"contamination_percent\", \"water_temp\", \"conductivity\", \"ph\", \"turbidity\", \"ecoli_log_mpn\"]\n",
    "wiley_df.head()"
   ]
  },
  {
   "cell_type": "code",
   "execution_count": 27,
   "metadata": {},
   "outputs": [],
   "source": [
    "wiley_psysico_df = wiley_df[[\"ecoli_presence\", \"ecoli_log_mpn\", \"ph\", \"conductivity\", \"turbidity\", \"water_temp\"]]"
   ]
  },
  {
   "cell_type": "code",
   "execution_count": 28,
   "metadata": {},
   "outputs": [
    {
     "data": {
      "text/plain": [
       "ecoli_presence      int64\n",
       "ecoli_log_mpn     float64\n",
       "ph                float64\n",
       "conductivity      float64\n",
       "turbidity         float64\n",
       "water_temp        float64\n",
       "dtype: object"
      ]
     },
     "execution_count": 28,
     "metadata": {},
     "output_type": "execute_result"
    }
   ],
   "source": [
    "wiley_psysico_df.dtypes"
   ]
  },
  {
   "cell_type": "code",
   "execution_count": 29,
   "metadata": {},
   "outputs": [],
   "source": [
    "wiley_psysico_df.loc[:, ('conductivity_log_us_cm')] = np.log10(wiley_psysico_df['conductivity'])"
   ]
  },
  {
   "cell_type": "code",
   "execution_count": 30,
   "metadata": {},
   "outputs": [],
   "source": [
    "wiley_psysico_df.loc[:, ('turbidity_log')] = np.log10(wiley_psysico_df['turbidity'])"
   ]
  },
  {
   "cell_type": "code",
   "execution_count": 31,
   "metadata": {},
   "outputs": [
    {
     "data": {
      "text/html": [
       "<div>\n",
       "<style scoped>\n",
       "    .dataframe tbody tr th:only-of-type {\n",
       "        vertical-align: middle;\n",
       "    }\n",
       "\n",
       "    .dataframe tbody tr th {\n",
       "        vertical-align: top;\n",
       "    }\n",
       "\n",
       "    .dataframe thead th {\n",
       "        text-align: right;\n",
       "    }\n",
       "</style>\n",
       "<table border=\"1\" class=\"dataframe\">\n",
       "  <thead>\n",
       "    <tr style=\"text-align: right;\">\n",
       "      <th></th>\n",
       "      <th>ecoli_presence</th>\n",
       "      <th>ecoli_log_mpn</th>\n",
       "      <th>ph</th>\n",
       "      <th>conductivity</th>\n",
       "      <th>turbidity</th>\n",
       "      <th>water_temp</th>\n",
       "      <th>conductivity_log_us_cm</th>\n",
       "      <th>turbidity_log</th>\n",
       "    </tr>\n",
       "  </thead>\n",
       "  <tbody>\n",
       "    <tr>\n",
       "      <th>0</th>\n",
       "      <td>0</td>\n",
       "      <td>0.52</td>\n",
       "      <td>8.77</td>\n",
       "      <td>70.0</td>\n",
       "      <td>7.65</td>\n",
       "      <td>24.82</td>\n",
       "      <td>1.845098</td>\n",
       "      <td>0.883661</td>\n",
       "    </tr>\n",
       "    <tr>\n",
       "      <th>1</th>\n",
       "      <td>0</td>\n",
       "      <td>0.52</td>\n",
       "      <td>7.11</td>\n",
       "      <td>8.1</td>\n",
       "      <td>9.47</td>\n",
       "      <td>23.32</td>\n",
       "      <td>0.908485</td>\n",
       "      <td>0.976350</td>\n",
       "    </tr>\n",
       "    <tr>\n",
       "      <th>2</th>\n",
       "      <td>0</td>\n",
       "      <td>0.52</td>\n",
       "      <td>8.31</td>\n",
       "      <td>96.1</td>\n",
       "      <td>8.24</td>\n",
       "      <td>23.14</td>\n",
       "      <td>1.982723</td>\n",
       "      <td>0.915927</td>\n",
       "    </tr>\n",
       "    <tr>\n",
       "      <th>3</th>\n",
       "      <td>0</td>\n",
       "      <td>0.52</td>\n",
       "      <td>7.65</td>\n",
       "      <td>26.3</td>\n",
       "      <td>11.67</td>\n",
       "      <td>25.80</td>\n",
       "      <td>1.419956</td>\n",
       "      <td>1.067071</td>\n",
       "    </tr>\n",
       "    <tr>\n",
       "      <th>4</th>\n",
       "      <td>0</td>\n",
       "      <td>0.52</td>\n",
       "      <td>7.36</td>\n",
       "      <td>7.9</td>\n",
       "      <td>15.92</td>\n",
       "      <td>23.07</td>\n",
       "      <td>0.897627</td>\n",
       "      <td>1.201943</td>\n",
       "    </tr>\n",
       "  </tbody>\n",
       "</table>\n",
       "</div>"
      ],
      "text/plain": [
       "   ecoli_presence  ecoli_log_mpn    ph  conductivity  turbidity  water_temp  \\\n",
       "0               0           0.52  8.77          70.0       7.65       24.82   \n",
       "1               0           0.52  7.11           8.1       9.47       23.32   \n",
       "2               0           0.52  8.31          96.1       8.24       23.14   \n",
       "3               0           0.52  7.65          26.3      11.67       25.80   \n",
       "4               0           0.52  7.36           7.9      15.92       23.07   \n",
       "\n",
       "   conductivity_log_us_cm  turbidity_log  \n",
       "0                1.845098       0.883661  \n",
       "1                0.908485       0.976350  \n",
       "2                1.982723       0.915927  \n",
       "3                1.419956       1.067071  \n",
       "4                0.897627       1.201943  "
      ]
     },
     "execution_count": 31,
     "metadata": {},
     "output_type": "execute_result"
    }
   ],
   "source": [
    "wiley_psysico_df.head()"
   ]
  },
  {
   "cell_type": "markdown",
   "metadata": {},
   "source": [
    "## Training Data"
   ]
  },
  {
   "cell_type": "code",
   "execution_count": 32,
   "metadata": {},
   "outputs": [],
   "source": [
    "training_data = pd.concat([top_final_psysico_df, weller_final_psysico_df], ignore_index=True)\n",
    "\n",
    "# Handle missing values by replacing with feature-specific means\n",
    "# combined_data.fillna(combined_data.mean(), inplace=True)"
   ]
  },
  {
   "cell_type": "code",
   "execution_count": 33,
   "metadata": {},
   "outputs": [
    {
     "data": {
      "text/html": [
       "<div>\n",
       "<style scoped>\n",
       "    .dataframe tbody tr th:only-of-type {\n",
       "        vertical-align: middle;\n",
       "    }\n",
       "\n",
       "    .dataframe tbody tr th {\n",
       "        vertical-align: top;\n",
       "    }\n",
       "\n",
       "    .dataframe thead th {\n",
       "        text-align: right;\n",
       "    }\n",
       "</style>\n",
       "<table border=\"1\" class=\"dataframe\">\n",
       "  <thead>\n",
       "    <tr style=\"text-align: right;\">\n",
       "      <th></th>\n",
       "      <th>ecoli_log_mpn</th>\n",
       "      <th>ph</th>\n",
       "      <th>conductivity_log_us_cm</th>\n",
       "      <th>turbidity_log</th>\n",
       "      <th>water_temp</th>\n",
       "    </tr>\n",
       "  </thead>\n",
       "  <tbody>\n",
       "    <tr>\n",
       "      <th>0</th>\n",
       "      <td>0.00000</td>\n",
       "      <td>7.04</td>\n",
       "      <td>2.149219</td>\n",
       "      <td>1.041393</td>\n",
       "      <td>20.7</td>\n",
       "    </tr>\n",
       "    <tr>\n",
       "      <th>1</th>\n",
       "      <td>0.00000</td>\n",
       "      <td>7.18</td>\n",
       "      <td>2.187521</td>\n",
       "      <td>1.000000</td>\n",
       "      <td>17.9</td>\n",
       "    </tr>\n",
       "    <tr>\n",
       "      <th>2</th>\n",
       "      <td>0.30103</td>\n",
       "      <td>6.93</td>\n",
       "      <td>2.093422</td>\n",
       "      <td>0.845098</td>\n",
       "      <td>17.5</td>\n",
       "    </tr>\n",
       "    <tr>\n",
       "      <th>3</th>\n",
       "      <td>0.30103</td>\n",
       "      <td>7.38</td>\n",
       "      <td>2.139879</td>\n",
       "      <td>1.079181</td>\n",
       "      <td>18.1</td>\n",
       "    </tr>\n",
       "    <tr>\n",
       "      <th>4</th>\n",
       "      <td>0.00000</td>\n",
       "      <td>8.09</td>\n",
       "      <td>2.206826</td>\n",
       "      <td>1.041393</td>\n",
       "      <td>21.1</td>\n",
       "    </tr>\n",
       "  </tbody>\n",
       "</table>\n",
       "</div>"
      ],
      "text/plain": [
       "   ecoli_log_mpn    ph  conductivity_log_us_cm  turbidity_log  water_temp\n",
       "0        0.00000  7.04                2.149219       1.041393        20.7\n",
       "1        0.00000  7.18                2.187521       1.000000        17.9\n",
       "2        0.30103  6.93                2.093422       0.845098        17.5\n",
       "3        0.30103  7.38                2.139879       1.079181        18.1\n",
       "4        0.00000  8.09                2.206826       1.041393        21.1"
      ]
     },
     "execution_count": 33,
     "metadata": {},
     "output_type": "execute_result"
    }
   ],
   "source": [
    "training_data.head()"
   ]
  },
  {
   "cell_type": "code",
   "execution_count": 34,
   "metadata": {},
   "outputs": [],
   "source": [
    "null_counts = training_data.isnull().sum()"
   ]
  },
  {
   "cell_type": "code",
   "execution_count": 35,
   "metadata": {},
   "outputs": [
    {
     "data": {
      "text/plain": [
       "ecoli_log_mpn             2\n",
       "ph                        3\n",
       "conductivity_log_us_cm    0\n",
       "turbidity_log             1\n",
       "water_temp                0\n",
       "dtype: int64"
      ]
     },
     "execution_count": 35,
     "metadata": {},
     "output_type": "execute_result"
    }
   ],
   "source": [
    "null_counts"
   ]
  },
  {
   "cell_type": "code",
   "execution_count": 36,
   "metadata": {},
   "outputs": [],
   "source": [
    "final_training_data = training_data.dropna()"
   ]
  },
  {
   "cell_type": "code",
   "execution_count": 37,
   "metadata": {},
   "outputs": [
    {
     "data": {
      "text/plain": [
       "ecoli_log_mpn             730\n",
       "ph                        730\n",
       "conductivity_log_us_cm    730\n",
       "turbidity_log             730\n",
       "water_temp                730\n",
       "dtype: int64"
      ]
     },
     "execution_count": 37,
     "metadata": {},
     "output_type": "execute_result"
    }
   ],
   "source": [
    "final_training_data.count()"
   ]
  },
  {
   "cell_type": "code",
   "execution_count": 38,
   "metadata": {},
   "outputs": [
    {
     "data": {
      "text/html": [
       "<div>\n",
       "<style scoped>\n",
       "    .dataframe tbody tr th:only-of-type {\n",
       "        vertical-align: middle;\n",
       "    }\n",
       "\n",
       "    .dataframe tbody tr th {\n",
       "        vertical-align: top;\n",
       "    }\n",
       "\n",
       "    .dataframe thead th {\n",
       "        text-align: right;\n",
       "    }\n",
       "</style>\n",
       "<table border=\"1\" class=\"dataframe\">\n",
       "  <thead>\n",
       "    <tr style=\"text-align: right;\">\n",
       "      <th></th>\n",
       "      <th>ecoli_log_mpn</th>\n",
       "      <th>ph</th>\n",
       "      <th>conductivity_log_us_cm</th>\n",
       "      <th>turbidity_log</th>\n",
       "      <th>water_temp</th>\n",
       "    </tr>\n",
       "  </thead>\n",
       "  <tbody>\n",
       "    <tr>\n",
       "      <th>count</th>\n",
       "      <td>730.000000</td>\n",
       "      <td>730.000000</td>\n",
       "      <td>730.000000</td>\n",
       "      <td>730.000000</td>\n",
       "      <td>730.000000</td>\n",
       "    </tr>\n",
       "    <tr>\n",
       "      <th>mean</th>\n",
       "      <td>1.247784</td>\n",
       "      <td>8.318918</td>\n",
       "      <td>2.455539</td>\n",
       "      <td>1.246792</td>\n",
       "      <td>21.250493</td>\n",
       "    </tr>\n",
       "    <tr>\n",
       "      <th>std</th>\n",
       "      <td>1.023423</td>\n",
       "      <td>0.873886</td>\n",
       "      <td>0.291052</td>\n",
       "      <td>0.427037</td>\n",
       "      <td>4.329668</td>\n",
       "    </tr>\n",
       "    <tr>\n",
       "      <th>min</th>\n",
       "      <td>0.000000</td>\n",
       "      <td>5.080000</td>\n",
       "      <td>0.863323</td>\n",
       "      <td>-0.167491</td>\n",
       "      <td>4.950000</td>\n",
       "    </tr>\n",
       "    <tr>\n",
       "      <th>25%</th>\n",
       "      <td>0.301030</td>\n",
       "      <td>7.690000</td>\n",
       "      <td>2.232996</td>\n",
       "      <td>1.025306</td>\n",
       "      <td>18.425000</td>\n",
       "    </tr>\n",
       "    <tr>\n",
       "      <th>50%</th>\n",
       "      <td>1.086360</td>\n",
       "      <td>8.230000</td>\n",
       "      <td>2.460145</td>\n",
       "      <td>1.342423</td>\n",
       "      <td>21.300000</td>\n",
       "    </tr>\n",
       "    <tr>\n",
       "      <th>75%</th>\n",
       "      <td>2.106190</td>\n",
       "      <td>8.910000</td>\n",
       "      <td>2.584331</td>\n",
       "      <td>1.531479</td>\n",
       "      <td>24.075000</td>\n",
       "    </tr>\n",
       "    <tr>\n",
       "      <th>max</th>\n",
       "      <td>4.175222</td>\n",
       "      <td>10.710000</td>\n",
       "      <td>3.514548</td>\n",
       "      <td>2.164353</td>\n",
       "      <td>31.000000</td>\n",
       "    </tr>\n",
       "  </tbody>\n",
       "</table>\n",
       "</div>"
      ],
      "text/plain": [
       "       ecoli_log_mpn          ph  conductivity_log_us_cm  turbidity_log  \\\n",
       "count     730.000000  730.000000              730.000000     730.000000   \n",
       "mean        1.247784    8.318918                2.455539       1.246792   \n",
       "std         1.023423    0.873886                0.291052       0.427037   \n",
       "min         0.000000    5.080000                0.863323      -0.167491   \n",
       "25%         0.301030    7.690000                2.232996       1.025306   \n",
       "50%         1.086360    8.230000                2.460145       1.342423   \n",
       "75%         2.106190    8.910000                2.584331       1.531479   \n",
       "max         4.175222   10.710000                3.514548       2.164353   \n",
       "\n",
       "       water_temp  \n",
       "count  730.000000  \n",
       "mean    21.250493  \n",
       "std      4.329668  \n",
       "min      4.950000  \n",
       "25%     18.425000  \n",
       "50%     21.300000  \n",
       "75%     24.075000  \n",
       "max     31.000000  "
      ]
     },
     "execution_count": 38,
     "metadata": {},
     "output_type": "execute_result"
    }
   ],
   "source": [
    "final_training_data.describe()"
   ]
  },
  {
   "cell_type": "code",
   "execution_count": 41,
   "metadata": {},
   "outputs": [
    {
     "name": "stderr",
     "output_type": "stream",
     "text": [
      "/var/folders/sl/r4c_htl17rxb94h9jwn4bx4m0000gn/T/ipykernel_37809/3817227661.py:2: SettingWithCopyWarning: \n",
      "A value is trying to be set on a copy of a slice from a DataFrame.\n",
      "Try using .loc[row_indexer,col_indexer] = value instead\n",
      "\n",
      "See the caveats in the documentation: https://pandas.pydata.org/pandas-docs/stable/user_guide/indexing.html#returning-a-view-versus-a-copy\n",
      "  final_training_data.loc[:, 'ecoli_presence'] = final_training_data['ecoli_log_mpn'].apply(lambda x: 0 if x < 1 else 1)\n"
     ]
    }
   ],
   "source": [
    "# final_training_data['ecoli_presence'] = final_training_data['ecoli_log_mpn'].apply(lambda x: 0 if x < 1 else 1)\n",
    "final_training_data.loc[:, 'ecoli_presence'] = final_training_data['ecoli_log_mpn'].apply(lambda x: 0 if x < 1 else 1)"
   ]
  },
  {
   "cell_type": "code",
   "execution_count": 44,
   "metadata": {},
   "outputs": [
    {
     "data": {
      "text/html": [
       "<div>\n",
       "<style scoped>\n",
       "    .dataframe tbody tr th:only-of-type {\n",
       "        vertical-align: middle;\n",
       "    }\n",
       "\n",
       "    .dataframe tbody tr th {\n",
       "        vertical-align: top;\n",
       "    }\n",
       "\n",
       "    .dataframe thead th {\n",
       "        text-align: right;\n",
       "    }\n",
       "</style>\n",
       "<table border=\"1\" class=\"dataframe\">\n",
       "  <thead>\n",
       "    <tr style=\"text-align: right;\">\n",
       "      <th></th>\n",
       "      <th>ecoli_log_mpn</th>\n",
       "      <th>ph</th>\n",
       "      <th>conductivity_log_us_cm</th>\n",
       "      <th>turbidity_log</th>\n",
       "      <th>water_temp</th>\n",
       "      <th>ecoli_presence</th>\n",
       "    </tr>\n",
       "  </thead>\n",
       "  <tbody>\n",
       "    <tr>\n",
       "      <th>0</th>\n",
       "      <td>0.000000</td>\n",
       "      <td>7.04</td>\n",
       "      <td>2.149219</td>\n",
       "      <td>1.041393</td>\n",
       "      <td>20.7</td>\n",
       "      <td>0</td>\n",
       "    </tr>\n",
       "    <tr>\n",
       "      <th>1</th>\n",
       "      <td>0.000000</td>\n",
       "      <td>7.18</td>\n",
       "      <td>2.187521</td>\n",
       "      <td>1.000000</td>\n",
       "      <td>17.9</td>\n",
       "      <td>0</td>\n",
       "    </tr>\n",
       "    <tr>\n",
       "      <th>2</th>\n",
       "      <td>0.301030</td>\n",
       "      <td>6.93</td>\n",
       "      <td>2.093422</td>\n",
       "      <td>0.845098</td>\n",
       "      <td>17.5</td>\n",
       "      <td>0</td>\n",
       "    </tr>\n",
       "    <tr>\n",
       "      <th>3</th>\n",
       "      <td>0.301030</td>\n",
       "      <td>7.38</td>\n",
       "      <td>2.139879</td>\n",
       "      <td>1.079181</td>\n",
       "      <td>18.1</td>\n",
       "      <td>0</td>\n",
       "    </tr>\n",
       "    <tr>\n",
       "      <th>4</th>\n",
       "      <td>0.000000</td>\n",
       "      <td>8.09</td>\n",
       "      <td>2.206826</td>\n",
       "      <td>1.041393</td>\n",
       "      <td>21.1</td>\n",
       "      <td>0</td>\n",
       "    </tr>\n",
       "    <tr>\n",
       "      <th>...</th>\n",
       "      <td>...</td>\n",
       "      <td>...</td>\n",
       "      <td>...</td>\n",
       "      <td>...</td>\n",
       "      <td>...</td>\n",
       "      <td>...</td>\n",
       "    </tr>\n",
       "    <tr>\n",
       "      <th>731</th>\n",
       "      <td>2.304059</td>\n",
       "      <td>7.77</td>\n",
       "      <td>2.969416</td>\n",
       "      <td>0.510545</td>\n",
       "      <td>13.6</td>\n",
       "      <td>1</td>\n",
       "    </tr>\n",
       "    <tr>\n",
       "      <th>732</th>\n",
       "      <td>2.310906</td>\n",
       "      <td>7.88</td>\n",
       "      <td>2.937518</td>\n",
       "      <td>0.700704</td>\n",
       "      <td>18.8</td>\n",
       "      <td>1</td>\n",
       "    </tr>\n",
       "    <tr>\n",
       "      <th>733</th>\n",
       "      <td>1.843233</td>\n",
       "      <td>7.61</td>\n",
       "      <td>3.075547</td>\n",
       "      <td>0.064458</td>\n",
       "      <td>13.2</td>\n",
       "      <td>1</td>\n",
       "    </tr>\n",
       "    <tr>\n",
       "      <th>734</th>\n",
       "      <td>2.415474</td>\n",
       "      <td>7.33</td>\n",
       "      <td>3.107888</td>\n",
       "      <td>0.334454</td>\n",
       "      <td>12.3</td>\n",
       "      <td>1</td>\n",
       "    </tr>\n",
       "    <tr>\n",
       "      <th>735</th>\n",
       "      <td>1.994757</td>\n",
       "      <td>7.86</td>\n",
       "      <td>3.026533</td>\n",
       "      <td>0.056905</td>\n",
       "      <td>14.5</td>\n",
       "      <td>1</td>\n",
       "    </tr>\n",
       "  </tbody>\n",
       "</table>\n",
       "<p>730 rows × 6 columns</p>\n",
       "</div>"
      ],
      "text/plain": [
       "     ecoli_log_mpn    ph  conductivity_log_us_cm  turbidity_log  water_temp  \\\n",
       "0         0.000000  7.04                2.149219       1.041393        20.7   \n",
       "1         0.000000  7.18                2.187521       1.000000        17.9   \n",
       "2         0.301030  6.93                2.093422       0.845098        17.5   \n",
       "3         0.301030  7.38                2.139879       1.079181        18.1   \n",
       "4         0.000000  8.09                2.206826       1.041393        21.1   \n",
       "..             ...   ...                     ...            ...         ...   \n",
       "731       2.304059  7.77                2.969416       0.510545        13.6   \n",
       "732       2.310906  7.88                2.937518       0.700704        18.8   \n",
       "733       1.843233  7.61                3.075547       0.064458        13.2   \n",
       "734       2.415474  7.33                3.107888       0.334454        12.3   \n",
       "735       1.994757  7.86                3.026533       0.056905        14.5   \n",
       "\n",
       "     ecoli_presence  \n",
       "0                 0  \n",
       "1                 0  \n",
       "2                 0  \n",
       "3                 0  \n",
       "4                 0  \n",
       "..              ...  \n",
       "731               1  \n",
       "732               1  \n",
       "733               1  \n",
       "734               1  \n",
       "735               1  \n",
       "\n",
       "[730 rows x 6 columns]"
      ]
     },
     "execution_count": 44,
     "metadata": {},
     "output_type": "execute_result"
    }
   ],
   "source": [
    "final_training_data"
   ]
  },
  {
   "cell_type": "markdown",
   "metadata": {},
   "source": [
    "## Testing Data"
   ]
  },
  {
   "cell_type": "code",
   "execution_count": 158,
   "metadata": {},
   "outputs": [],
   "source": [
    "testing_data =  wiley_psysico_df[[\"ecoli_log_mpn\", \"ph\", \"conductivity_log_us_cm\", \"turbidity_log\", \"water_temp\", \"ecoli_presence\"]]\n"
   ]
  },
  {
   "cell_type": "code",
   "execution_count": 159,
   "metadata": {},
   "outputs": [
    {
     "data": {
      "text/html": [
       "<div>\n",
       "<style scoped>\n",
       "    .dataframe tbody tr th:only-of-type {\n",
       "        vertical-align: middle;\n",
       "    }\n",
       "\n",
       "    .dataframe tbody tr th {\n",
       "        vertical-align: top;\n",
       "    }\n",
       "\n",
       "    .dataframe thead th {\n",
       "        text-align: right;\n",
       "    }\n",
       "</style>\n",
       "<table border=\"1\" class=\"dataframe\">\n",
       "  <thead>\n",
       "    <tr style=\"text-align: right;\">\n",
       "      <th></th>\n",
       "      <th>ecoli_log_mpn</th>\n",
       "      <th>ph</th>\n",
       "      <th>conductivity_log_us_cm</th>\n",
       "      <th>turbidity_log</th>\n",
       "      <th>water_temp</th>\n",
       "      <th>ecoli_presence</th>\n",
       "    </tr>\n",
       "  </thead>\n",
       "  <tbody>\n",
       "    <tr>\n",
       "      <th>0</th>\n",
       "      <td>0.52</td>\n",
       "      <td>8.77</td>\n",
       "      <td>1.845098</td>\n",
       "      <td>0.883661</td>\n",
       "      <td>24.82</td>\n",
       "      <td>0</td>\n",
       "    </tr>\n",
       "    <tr>\n",
       "      <th>1</th>\n",
       "      <td>0.52</td>\n",
       "      <td>7.11</td>\n",
       "      <td>0.908485</td>\n",
       "      <td>0.976350</td>\n",
       "      <td>23.32</td>\n",
       "      <td>0</td>\n",
       "    </tr>\n",
       "    <tr>\n",
       "      <th>2</th>\n",
       "      <td>0.52</td>\n",
       "      <td>8.31</td>\n",
       "      <td>1.982723</td>\n",
       "      <td>0.915927</td>\n",
       "      <td>23.14</td>\n",
       "      <td>0</td>\n",
       "    </tr>\n",
       "    <tr>\n",
       "      <th>3</th>\n",
       "      <td>0.52</td>\n",
       "      <td>7.65</td>\n",
       "      <td>1.419956</td>\n",
       "      <td>1.067071</td>\n",
       "      <td>25.80</td>\n",
       "      <td>0</td>\n",
       "    </tr>\n",
       "    <tr>\n",
       "      <th>4</th>\n",
       "      <td>0.52</td>\n",
       "      <td>7.36</td>\n",
       "      <td>0.897627</td>\n",
       "      <td>1.201943</td>\n",
       "      <td>23.07</td>\n",
       "      <td>0</td>\n",
       "    </tr>\n",
       "  </tbody>\n",
       "</table>\n",
       "</div>"
      ],
      "text/plain": [
       "   ecoli_log_mpn    ph  conductivity_log_us_cm  turbidity_log  water_temp  \\\n",
       "0           0.52  8.77                1.845098       0.883661       24.82   \n",
       "1           0.52  7.11                0.908485       0.976350       23.32   \n",
       "2           0.52  8.31                1.982723       0.915927       23.14   \n",
       "3           0.52  7.65                1.419956       1.067071       25.80   \n",
       "4           0.52  7.36                0.897627       1.201943       23.07   \n",
       "\n",
       "   ecoli_presence  \n",
       "0               0  \n",
       "1               0  \n",
       "2               0  \n",
       "3               0  \n",
       "4               0  "
      ]
     },
     "execution_count": 159,
     "metadata": {},
     "output_type": "execute_result"
    }
   ],
   "source": [
    "testing_data.head()"
   ]
  },
  {
   "cell_type": "code",
   "execution_count": 160,
   "metadata": {},
   "outputs": [],
   "source": [
    "X_test = testing_data[[\"ph\", \"conductivity_log_us_cm\", \"turbidity_log\"]]\n",
    "y_test = testing_data[[\"ecoli_presence\"]]"
   ]
  },
  {
   "cell_type": "code",
   "execution_count": 161,
   "metadata": {},
   "outputs": [],
   "source": [
    "X_test_df = pd.DataFrame(X_test, columns=[\"ph\", \"conductivity_log_us_cm\", \"turbidity_log\"])"
   ]
  },
  {
   "cell_type": "markdown",
   "metadata": {},
   "source": [
    "## Data Processing"
   ]
  },
  {
   "cell_type": "code",
   "execution_count": 141,
   "metadata": {},
   "outputs": [],
   "source": [
    "X = final_training_data[[\"ph\", \"conductivity_log_us_cm\", \"turbidity_log\"]]\n",
    "y = final_training_data[\"ecoli_presence\"]\n",
    "\n",
    "# # Train-test split\n",
    "# X_train, X_test, y_train, y_test = train_test_split(X, y, test_size=0.2, random_state=42)\n"
   ]
  },
  {
   "cell_type": "code",
   "execution_count": 142,
   "metadata": {},
   "outputs": [],
   "source": [
    "scaler = StandardScaler()\n",
    "sc_X = scaler.fit_transform(X)"
   ]
  },
  {
   "cell_type": "markdown",
   "metadata": {},
   "source": [
    "## Synthetic Minority Oversampling Technique (SMOTE) && Random Forest Regressor Model"
   ]
  },
  {
   "cell_type": "code",
   "execution_count": 143,
   "metadata": {},
   "outputs": [],
   "source": [
    "# Define oversampling techniques\n",
    "smote = SMOTE(random_state=42)\n",
    "adasyn = ADASYN(random_state=42)"
   ]
  },
  {
   "cell_type": "code",
   "execution_count": 144,
   "metadata": {},
   "outputs": [],
   "source": [
    "# Apply SMOTE to the training data\n",
    "X_train, y_train = smote.fit_resample(sc_X, y)"
   ]
  },
  {
   "cell_type": "code",
   "execution_count": 145,
   "metadata": {},
   "outputs": [],
   "source": [
    "X_train_df = pd.DataFrame(X_train, columns=[\"ph\", \"conductivity_log_us_cm\", \"turbidity_log\"])"
   ]
  },
  {
   "cell_type": "code",
   "execution_count": 146,
   "metadata": {},
   "outputs": [],
   "source": [
    "rf = RandomForestClassifier(random_state=42, class_weight={0: 1, 1: 2})"
   ]
  },
  {
   "cell_type": "code",
   "execution_count": 147,
   "metadata": {},
   "outputs": [],
   "source": [
    "pipe_rf = Pipeline([('rf', rf)])\n"
   ]
  },
  {
   "cell_type": "code",
   "execution_count": 148,
   "metadata": {},
   "outputs": [],
   "source": [
    "param_grid_rf = {'rf__n_estimators': [300, 500, 600, 700, 1000], 'rf__max_features': [1,2,3,4]}\n"
   ]
  },
  {
   "cell_type": "code",
   "execution_count": 149,
   "metadata": {},
   "outputs": [],
   "source": [
    "grid_rf = GridSearchCV(pipe_rf, param_grid_rf, cv=10, scoring='accuracy')"
   ]
  },
  {
   "cell_type": "code",
   "execution_count": 150,
   "metadata": {},
   "outputs": [
    {
     "data": {
      "text/html": [
       "<style>#sk-container-id-8 {color: black;}#sk-container-id-8 pre{padding: 0;}#sk-container-id-8 div.sk-toggleable {background-color: white;}#sk-container-id-8 label.sk-toggleable__label {cursor: pointer;display: block;width: 100%;margin-bottom: 0;padding: 0.3em;box-sizing: border-box;text-align: center;}#sk-container-id-8 label.sk-toggleable__label-arrow:before {content: \"▸\";float: left;margin-right: 0.25em;color: #696969;}#sk-container-id-8 label.sk-toggleable__label-arrow:hover:before {color: black;}#sk-container-id-8 div.sk-estimator:hover label.sk-toggleable__label-arrow:before {color: black;}#sk-container-id-8 div.sk-toggleable__content {max-height: 0;max-width: 0;overflow: hidden;text-align: left;background-color: #f0f8ff;}#sk-container-id-8 div.sk-toggleable__content pre {margin: 0.2em;color: black;border-radius: 0.25em;background-color: #f0f8ff;}#sk-container-id-8 input.sk-toggleable__control:checked~div.sk-toggleable__content {max-height: 200px;max-width: 100%;overflow: auto;}#sk-container-id-8 input.sk-toggleable__control:checked~label.sk-toggleable__label-arrow:before {content: \"▾\";}#sk-container-id-8 div.sk-estimator input.sk-toggleable__control:checked~label.sk-toggleable__label {background-color: #d4ebff;}#sk-container-id-8 div.sk-label input.sk-toggleable__control:checked~label.sk-toggleable__label {background-color: #d4ebff;}#sk-container-id-8 input.sk-hidden--visually {border: 0;clip: rect(1px 1px 1px 1px);clip: rect(1px, 1px, 1px, 1px);height: 1px;margin: -1px;overflow: hidden;padding: 0;position: absolute;width: 1px;}#sk-container-id-8 div.sk-estimator {font-family: monospace;background-color: #f0f8ff;border: 1px dotted black;border-radius: 0.25em;box-sizing: border-box;margin-bottom: 0.5em;}#sk-container-id-8 div.sk-estimator:hover {background-color: #d4ebff;}#sk-container-id-8 div.sk-parallel-item::after {content: \"\";width: 100%;border-bottom: 1px solid gray;flex-grow: 1;}#sk-container-id-8 div.sk-label:hover label.sk-toggleable__label {background-color: #d4ebff;}#sk-container-id-8 div.sk-serial::before {content: \"\";position: absolute;border-left: 1px solid gray;box-sizing: border-box;top: 0;bottom: 0;left: 50%;z-index: 0;}#sk-container-id-8 div.sk-serial {display: flex;flex-direction: column;align-items: center;background-color: white;padding-right: 0.2em;padding-left: 0.2em;position: relative;}#sk-container-id-8 div.sk-item {position: relative;z-index: 1;}#sk-container-id-8 div.sk-parallel {display: flex;align-items: stretch;justify-content: center;background-color: white;position: relative;}#sk-container-id-8 div.sk-item::before, #sk-container-id-8 div.sk-parallel-item::before {content: \"\";position: absolute;border-left: 1px solid gray;box-sizing: border-box;top: 0;bottom: 0;left: 50%;z-index: -1;}#sk-container-id-8 div.sk-parallel-item {display: flex;flex-direction: column;z-index: 1;position: relative;background-color: white;}#sk-container-id-8 div.sk-parallel-item:first-child::after {align-self: flex-end;width: 50%;}#sk-container-id-8 div.sk-parallel-item:last-child::after {align-self: flex-start;width: 50%;}#sk-container-id-8 div.sk-parallel-item:only-child::after {width: 0;}#sk-container-id-8 div.sk-dashed-wrapped {border: 1px dashed gray;margin: 0 0.4em 0.5em 0.4em;box-sizing: border-box;padding-bottom: 0.4em;background-color: white;}#sk-container-id-8 div.sk-label label {font-family: monospace;font-weight: bold;display: inline-block;line-height: 1.2em;}#sk-container-id-8 div.sk-label-container {text-align: center;}#sk-container-id-8 div.sk-container {/* jupyter's `normalize.less` sets `[hidden] { display: none; }` but bootstrap.min.css set `[hidden] { display: none !important; }` so we also need the `!important` here to be able to override the default hidden behavior on the sphinx rendered scikit-learn.org. See: https://github.com/scikit-learn/scikit-learn/issues/21755 */display: inline-block !important;position: relative;}#sk-container-id-8 div.sk-text-repr-fallback {display: none;}</style><div id=\"sk-container-id-8\" class=\"sk-top-container\"><div class=\"sk-text-repr-fallback\"><pre>GridSearchCV(cv=10,\n",
       "             estimator=Pipeline(steps=[(&#x27;rf&#x27;,\n",
       "                                        RandomForestClassifier(class_weight={0: 1,\n",
       "                                                                             1: 2},\n",
       "                                                               random_state=42))]),\n",
       "             param_grid={&#x27;rf__max_features&#x27;: [1, 2, 3, 4],\n",
       "                         &#x27;rf__n_estimators&#x27;: [300, 500, 600, 700, 1000]},\n",
       "             scoring=&#x27;accuracy&#x27;)</pre><b>In a Jupyter environment, please rerun this cell to show the HTML representation or trust the notebook. <br />On GitHub, the HTML representation is unable to render, please try loading this page with nbviewer.org.</b></div><div class=\"sk-container\" hidden><div class=\"sk-item sk-dashed-wrapped\"><div class=\"sk-label-container\"><div class=\"sk-label sk-toggleable\"><input class=\"sk-toggleable__control sk-hidden--visually\" id=\"sk-estimator-id-24\" type=\"checkbox\" ><label for=\"sk-estimator-id-24\" class=\"sk-toggleable__label sk-toggleable__label-arrow\">GridSearchCV</label><div class=\"sk-toggleable__content\"><pre>GridSearchCV(cv=10,\n",
       "             estimator=Pipeline(steps=[(&#x27;rf&#x27;,\n",
       "                                        RandomForestClassifier(class_weight={0: 1,\n",
       "                                                                             1: 2},\n",
       "                                                               random_state=42))]),\n",
       "             param_grid={&#x27;rf__max_features&#x27;: [1, 2, 3, 4],\n",
       "                         &#x27;rf__n_estimators&#x27;: [300, 500, 600, 700, 1000]},\n",
       "             scoring=&#x27;accuracy&#x27;)</pre></div></div></div><div class=\"sk-parallel\"><div class=\"sk-parallel-item\"><div class=\"sk-item\"><div class=\"sk-label-container\"><div class=\"sk-label sk-toggleable\"><input class=\"sk-toggleable__control sk-hidden--visually\" id=\"sk-estimator-id-25\" type=\"checkbox\" ><label for=\"sk-estimator-id-25\" class=\"sk-toggleable__label sk-toggleable__label-arrow\">estimator: Pipeline</label><div class=\"sk-toggleable__content\"><pre>Pipeline(steps=[(&#x27;rf&#x27;,\n",
       "                 RandomForestClassifier(class_weight={0: 1, 1: 2},\n",
       "                                        random_state=42))])</pre></div></div></div><div class=\"sk-serial\"><div class=\"sk-item\"><div class=\"sk-serial\"><div class=\"sk-item\"><div class=\"sk-estimator sk-toggleable\"><input class=\"sk-toggleable__control sk-hidden--visually\" id=\"sk-estimator-id-26\" type=\"checkbox\" ><label for=\"sk-estimator-id-26\" class=\"sk-toggleable__label sk-toggleable__label-arrow\">RandomForestClassifier</label><div class=\"sk-toggleable__content\"><pre>RandomForestClassifier(class_weight={0: 1, 1: 2}, random_state=42)</pre></div></div></div></div></div></div></div></div></div></div></div></div>"
      ],
      "text/plain": [
       "GridSearchCV(cv=10,\n",
       "             estimator=Pipeline(steps=[('rf',\n",
       "                                        RandomForestClassifier(class_weight={0: 1,\n",
       "                                                                             1: 2},\n",
       "                                                               random_state=42))]),\n",
       "             param_grid={'rf__max_features': [1, 2, 3, 4],\n",
       "                         'rf__n_estimators': [300, 500, 600, 700, 1000]},\n",
       "             scoring='accuracy')"
      ]
     },
     "execution_count": 150,
     "metadata": {},
     "output_type": "execute_result"
    }
   ],
   "source": [
    "grid_rf.fit(X_train_df, y_train)"
   ]
  },
  {
   "cell_type": "code",
   "execution_count": 151,
   "metadata": {},
   "outputs": [],
   "source": [
    "# Evaluate models on test set\n",
    "def evaluate_model(model, X_test, y_test):\n",
    "    y_pred = model.predict(X_test)\n",
    "    acc = accuracy_score(y_test, y_pred)\n",
    "    roc_auc = roc_auc_score(y_test, y_pred)\n",
    "    print(f\"Accuracy: {acc:.2f}\")\n",
    "    print(f\"AUC: {roc_auc:.2f}\")\n",
    "    print(classification_report(y_test, y_pred))"
   ]
  },
  {
   "cell_type": "code",
   "execution_count": 162,
   "metadata": {},
   "outputs": [
    {
     "name": "stdout",
     "output_type": "stream",
     "text": [
      "Random Forest:\n",
      "Accuracy: 0.80\n",
      "AUC: 0.82\n",
      "              precision    recall  f1-score   support\n",
      "\n",
      "           0       0.94      0.71      0.81        24\n",
      "           1       0.68      0.94      0.79        16\n",
      "\n",
      "    accuracy                           0.80        40\n",
      "   macro avg       0.81      0.82      0.80        40\n",
      "weighted avg       0.84      0.80      0.80        40\n",
      "\n"
     ]
    }
   ],
   "source": [
    "print(\"Random Forest:\")\n",
    "evaluate_model(grid_rf, X_test_df, y_test)"
   ]
  },
  {
   "cell_type": "code",
   "execution_count": 164,
   "metadata": {},
   "outputs": [
    {
     "data": {
      "text/plain": [
       "['random_forest_model.pkl']"
      ]
     },
     "execution_count": 164,
     "metadata": {},
     "output_type": "execute_result"
    }
   ],
   "source": [
    "joblib.dump(grid_rf, 'random_forest_model.pkl')"
   ]
  },
  {
   "cell_type": "markdown",
   "metadata": {},
   "source": [
    "## Msx"
   ]
  },
  {
   "cell_type": "code",
   "execution_count": 119,
   "metadata": {},
   "outputs": [],
   "source": [
    "# Define classifiers\n",
    "# rf = RandomForestRegressor(random_state=42)\n",
    "# svm = SVC(random_state=42)\n",
    "# blr = LogisticRegression(random_state=42)\n",
    "# blr_2 = LogisticRegression(random_state=42)"
   ]
  },
  {
   "cell_type": "code",
   "execution_count": 118,
   "metadata": {},
   "outputs": [],
   "source": [
    "# Define pipelines for oversampling + model\n",
    "# pipe_srf = Pipeline([('smote', smote), ('scaler', StandardScaler()), ('rf_2', rf_2)])  # Example with scaling for RF"
   ]
  },
  {
   "cell_type": "code",
   "execution_count": 120,
   "metadata": {},
   "outputs": [],
   "source": [
    "# Define pipelines for oversampling + model\n",
    "# pipe_blr = Pipeline([('smote', smote), ('blr', blr)])\n",
    "# pipe_sblr = Pipeline([('smote', smote), ('scaler', StandardScaler()), ('blr_2', blr_2)])  # Example with scaling for BLR"
   ]
  },
  {
   "cell_type": "code",
   "execution_count": 128,
   "metadata": {},
   "outputs": [],
   "source": [
    "# Define parameter grids for hyperparameter tuning\n"
   ]
  },
  {
   "cell_type": "code",
   "execution_count": 123,
   "metadata": {},
   "outputs": [],
   "source": [
    "# Define parameter grids for hyperparameter tuning\n",
    "param_grid_blr = {...}  # Define hyperparameters for BLR\n"
   ]
  },
  {
   "cell_type": "code",
   "execution_count": 129,
   "metadata": {},
   "outputs": [],
   "source": [
    "# Perform GridSearchCV for each model\n",
    "grid_srf = GridSearchCV(pipe_srf, param_grid_rf, cv=10, scoring='accuracy')\n"
   ]
  },
  {
   "cell_type": "code",
   "execution_count": null,
   "metadata": {},
   "outputs": [],
   "source": [
    "grid_blr = GridSearchCV(pipe_blr, param_grid_blr, cv=10, scoring='accuracy')\n",
    "grid_sblr = GridSearchCV(pipe_sblr, param_grid_blr, cv=10, scoring='accuracy')"
   ]
  },
  {
   "cell_type": "code",
   "execution_count": null,
   "metadata": {},
   "outputs": [],
   "source": [
    "# Fit the models\n",
    "grid_srf.fit(X_train, y_train)\n"
   ]
  },
  {
   "cell_type": "code",
   "execution_count": null,
   "metadata": {},
   "outputs": [],
   "source": [
    "grid_blr.fit(X_train, y_train)\n",
    "grid_sblr.fit(X_train, y_train)"
   ]
  },
  {
   "cell_type": "code",
   "execution_count": null,
   "metadata": {},
   "outputs": [],
   "source": []
  },
  {
   "cell_type": "code",
   "execution_count": null,
   "metadata": {},
   "outputs": [],
   "source": []
  },
  {
   "cell_type": "code",
   "execution_count": null,
   "metadata": {},
   "outputs": [],
   "source": [
    "print(\"Random Forest (Scaled):\")\n",
    "evaluate_model(grid_srf, X_test, y_test)"
   ]
  },
  {
   "cell_type": "code",
   "execution_count": null,
   "metadata": {},
   "outputs": [],
   "source": [
    "print(\"Binary Linear Regressor:\")\n",
    "evaluate_model(grid_blr, X_test, y_test)"
   ]
  },
  {
   "cell_type": "code",
   "execution_count": null,
   "metadata": {},
   "outputs": [],
   "source": [
    "print(\"Random Forest:\")\n",
    "evaluate_model(grid_sblr, X_test, y_test)"
   ]
  }
 ],
 "metadata": {
  "kernelspec": {
   "display_name": "Python 3",
   "language": "python",
   "name": "python3"
  },
  "language_info": {
   "codemirror_mode": {
    "name": "ipython",
    "version": 3
   },
   "file_extension": ".py",
   "mimetype": "text/x-python",
   "name": "python",
   "nbconvert_exporter": "python",
   "pygments_lexer": "ipython3",
   "version": "3.10.13"
  }
 },
 "nbformat": 4,
 "nbformat_minor": 2
}
